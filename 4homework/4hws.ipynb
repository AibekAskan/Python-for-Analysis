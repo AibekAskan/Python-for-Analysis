{
 "cells": [
  {
   "cell_type": "markdown",
   "id": "576db7e0-5640-4f9a-94d9-ae1d2e0d5bd1",
   "metadata": {},
   "source": [
    "# Задание 1"
   ]
  },
  {
   "cell_type": "markdown",
   "id": "cee9dfb4-a709-4fc1-bf86-57bfc53e900e",
   "metadata": {},
   "source": [
    "### Основы чтения и записи данных:\n",
    "\n",
    "● Прочитать данный набор данных из CSV файла.\n",
    "\n",
    "● Сохранить первые 10 строк данных в новый Excel файл."
   ]
  },
  {
   "cell_type": "code",
   "execution_count": 65,
   "id": "8718cdba-135d-46f9-badf-4c1c01644990",
   "metadata": {},
   "outputs": [],
   "source": [
    "import pandas as pd"
   ]
  },
  {
   "cell_type": "code",
   "execution_count": 67,
   "id": "8d09cea3-7710-4ec1-b82e-c659e40645c3",
   "metadata": {},
   "outputs": [],
   "source": [
    "df = pd.read_csv('Таблица для ДЗ.csv')"
   ]
  },
  {
   "cell_type": "code",
   "execution_count": 69,
   "id": "22beb78f-9224-4861-8ce5-a913ee30b3a7",
   "metadata": {},
   "outputs": [],
   "source": [
    "df.head(10).to_excel('first_10_rows.xlsx', index=True)"
   ]
  },
  {
   "cell_type": "markdown",
   "id": "f654350f-1d08-4357-b60f-da854ec1716a",
   "metadata": {},
   "source": [
    "### Работа с DataFrame:\n",
    "\n",
    "● Создать новый DataFrame, содержащий только продажи Product A.\n",
    "\n",
    "● Выбрать все строки, где Customer_Age больше 50 лет."
   ]
  },
  {
   "cell_type": "code",
   "execution_count": 73,
   "id": "785eb619-8fec-439b-8287-d334ccc89781",
   "metadata": {},
   "outputs": [
    {
     "name": "stdout",
     "output_type": "stream",
     "text": [
      "          Date    Product  Sales  Customer_Age  Customer_Rating  Returned\n",
      "3   2020-03-03  Product A     81            35                5     False\n",
      "5   2020-04-15  Product A     88            58                2     False\n",
      "9   2020-06-05  Product A     33            45                4     False\n",
      "13  2020-08-28  Product A     70            65                2      True\n",
      "14  2020-09-23  Product A     54            19                1     False\n"
     ]
    }
   ],
   "source": [
    "product_a_df = df[df['Product'] == 'Product A']\n",
    "print(product_a_df)"
   ]
  },
  {
   "cell_type": "code",
   "execution_count": 79,
   "id": "5bafe6cf-42b9-488e-8eb2-b6ce9bbd8f6c",
   "metadata": {},
   "outputs": [
    {
     "name": "stdout",
     "output_type": "stream",
     "text": [
      "          Date    Product  Sales  Customer_Age  Customer_Rating  Returned\n",
      "0   2020-01-08  Product B     87            55                4     False\n",
      "1   2020-01-20  Product B      9            53                1     False\n",
      "5   2020-04-15  Product A     88            58                2     False\n",
      "10  2020-07-09  Product C     63            66                5      True\n",
      "11  2020-08-09  Product B     36            61                5     False\n",
      "13  2020-08-28  Product A     70            65                2      True\n"
     ]
    }
   ],
   "source": [
    "age_above_50_df = df[df['Customer_Age'] > 50]\n",
    "print(age_above_50_df)"
   ]
  },
  {
   "cell_type": "markdown",
   "id": "e82d88bf-10b5-4e5f-8877-ba51ca48d710",
   "metadata": {},
   "source": [
    "### Фильтрация и выбор данных:\n",
    "\n",
    "● Выбрать все продажи с рейтингом покупателя 5.\n",
    "\n",
    "● Выбрать все записи, где продукт был возвращен, и возраст покупателя меньше 30 лет."
   ]
  },
  {
   "cell_type": "code",
   "execution_count": 81,
   "id": "469d8f48-2327-4ebf-be09-3cd6acd2bd90",
   "metadata": {},
   "outputs": [
    {
     "name": "stdout",
     "output_type": "stream",
     "text": [
      "          Date    Product  Sales  Customer_Age  Customer_Rating  Returned\n",
      "3   2020-03-03  Product A     81            35                5     False\n",
      "10  2020-07-09  Product C     63            66                5      True\n",
      "11  2020-08-09  Product B     36            61                5     False\n"
     ]
    }
   ],
   "source": [
    "rating_5_df = df[df['Customer_Rating'] == 5]\n",
    "print(rating_5_df)"
   ]
  },
  {
   "cell_type": "code",
   "execution_count": 89,
   "id": "c9bb6b8f-0a14-4906-9696-a91c22a6ba1b",
   "metadata": {},
   "outputs": [
    {
     "name": "stdout",
     "output_type": "stream",
     "text": [
      "         Date    Product  Sales  Customer_Age  Customer_Rating  Returned\n",
      "8  2020-06-03  Product B     77            28                4      True\n"
     ]
    }
   ],
   "source": [
    "returned_under_30_df = df[(df['Returned'] == True) & (df['Customer_Age'] < 30)]\n",
    "print(returned_under_30_df)"
   ]
  },
  {
   "cell_type": "markdown",
   "id": "a44ad915-377c-4a1d-8b9d-f896e495fd7a",
   "metadata": {},
   "source": [
    "# Задание 2 - Задачи на использование .loc:"
   ]
  },
  {
   "cell_type": "markdown",
   "id": "2b2ff19d-97d4-407f-bc77-3bac22617a04",
   "metadata": {},
   "source": [
    "### Выбрать продажи для определенной даты:\n",
    "\n",
    "● Используйте .loc для выбора всех строк, где дата продажи соответствует конкретной дате (например, '2020-04-15')."
   ]
  },
  {
   "cell_type": "code",
   "execution_count": 93,
   "id": "9e2f823b-6002-49e9-91a9-c62d8be97c00",
   "metadata": {},
   "outputs": [
    {
     "data": {
      "text/html": [
       "<div>\n",
       "<style scoped>\n",
       "    .dataframe tbody tr th:only-of-type {\n",
       "        vertical-align: middle;\n",
       "    }\n",
       "\n",
       "    .dataframe tbody tr th {\n",
       "        vertical-align: top;\n",
       "    }\n",
       "\n",
       "    .dataframe thead th {\n",
       "        text-align: right;\n",
       "    }\n",
       "</style>\n",
       "<table border=\"1\" class=\"dataframe\">\n",
       "  <thead>\n",
       "    <tr style=\"text-align: right;\">\n",
       "      <th></th>\n",
       "      <th>Date</th>\n",
       "      <th>Product</th>\n",
       "      <th>Sales</th>\n",
       "      <th>Customer_Age</th>\n",
       "      <th>Customer_Rating</th>\n",
       "      <th>Returned</th>\n",
       "    </tr>\n",
       "  </thead>\n",
       "  <tbody>\n",
       "    <tr>\n",
       "      <th>5</th>\n",
       "      <td>2020-04-15</td>\n",
       "      <td>Product A</td>\n",
       "      <td>88</td>\n",
       "      <td>58</td>\n",
       "      <td>2</td>\n",
       "      <td>False</td>\n",
       "    </tr>\n",
       "  </tbody>\n",
       "</table>\n",
       "</div>"
      ],
      "text/plain": [
       "         Date    Product  Sales  Customer_Age  Customer_Rating  Returned\n",
       "5  2020-04-15  Product A     88            58                2     False"
      ]
     },
     "execution_count": 93,
     "metadata": {},
     "output_type": "execute_result"
    }
   ],
   "source": [
    "df.loc[df['Date'] == '2020-04-15']"
   ]
  },
  {
   "cell_type": "markdown",
   "id": "d3d6dc06-f536-4167-ade2-0acb5d2571bf",
   "metadata": {},
   "source": [
    "### Выбрать данные по диапазону индексов и определенным колонкам:\n",
    "\n",
    "● Используйте .loc для выбора строк с 5 по 10 и колонок 'Product' и 'Sales'."
   ]
  },
  {
   "cell_type": "code",
   "execution_count": 101,
   "id": "c898594a-b253-44cb-a2a8-8061f3dda323",
   "metadata": {},
   "outputs": [
    {
     "data": {
      "text/html": [
       "<div>\n",
       "<style scoped>\n",
       "    .dataframe tbody tr th:only-of-type {\n",
       "        vertical-align: middle;\n",
       "    }\n",
       "\n",
       "    .dataframe tbody tr th {\n",
       "        vertical-align: top;\n",
       "    }\n",
       "\n",
       "    .dataframe thead th {\n",
       "        text-align: right;\n",
       "    }\n",
       "</style>\n",
       "<table border=\"1\" class=\"dataframe\">\n",
       "  <thead>\n",
       "    <tr style=\"text-align: right;\">\n",
       "      <th></th>\n",
       "      <th>Product</th>\n",
       "      <th>Sales</th>\n",
       "    </tr>\n",
       "  </thead>\n",
       "  <tbody>\n",
       "    <tr>\n",
       "      <th>5</th>\n",
       "      <td>Product A</td>\n",
       "      <td>88</td>\n",
       "    </tr>\n",
       "    <tr>\n",
       "      <th>6</th>\n",
       "      <td>Product C</td>\n",
       "      <td>85</td>\n",
       "    </tr>\n",
       "    <tr>\n",
       "      <th>7</th>\n",
       "      <td>Product C</td>\n",
       "      <td>62</td>\n",
       "    </tr>\n",
       "    <tr>\n",
       "      <th>8</th>\n",
       "      <td>Product B</td>\n",
       "      <td>77</td>\n",
       "    </tr>\n",
       "    <tr>\n",
       "      <th>9</th>\n",
       "      <td>Product A</td>\n",
       "      <td>33</td>\n",
       "    </tr>\n",
       "    <tr>\n",
       "      <th>10</th>\n",
       "      <td>Product C</td>\n",
       "      <td>63</td>\n",
       "    </tr>\n",
       "  </tbody>\n",
       "</table>\n",
       "</div>"
      ],
      "text/plain": [
       "      Product  Sales\n",
       "5   Product A     88\n",
       "6   Product C     85\n",
       "7   Product C     62\n",
       "8   Product B     77\n",
       "9   Product A     33\n",
       "10  Product C     63"
      ]
     },
     "execution_count": 101,
     "metadata": {},
     "output_type": "execute_result"
    }
   ],
   "source": [
    "df.loc[5:10, ['Product', 'Sales']]"
   ]
  },
  {
   "cell_type": "markdown",
   "id": "326646a4-eacd-4a28-ae2d-6a07f44a95da",
   "metadata": {},
   "source": [
    "### Изменить данные для определенного условия:\n",
    "\n",
    "● Используйте .loc для изменения значения 'Returned' на True для всех продаж, где 'Customer_Rating' равен 1."
   ]
  },
  {
   "cell_type": "code",
   "execution_count": 116,
   "id": "80a1917b-3986-44e3-a14c-ed3208591280",
   "metadata": {},
   "outputs": [],
   "source": [
    "df.loc[df['Customer_Rating'] == 1, 'Returned'] = True"
   ]
  },
  {
   "cell_type": "markdown",
   "id": "0524bea5-9abb-4125-84a0-83dec8079e10",
   "metadata": {},
   "source": [
    "# Задание 3 - Задачи на группировку данных:"
   ]
  },
  {
   "cell_type": "markdown",
   "id": "f4d9a5fd-6cb6-42db-84f5-a6bcbf70d61f",
   "metadata": {},
   "source": [
    "### Группировка по продукту и подсчет среднего возраста покупателей:\n",
    "\n",
    "● Группируйте данные по 'Product' и вычислите средний возраст ('Customer_Age') для каждого продукта."
   ]
  },
  {
   "cell_type": "code",
   "execution_count": 121,
   "id": "4d4bca52-4881-4d33-9a0b-c34dc3b7bf78",
   "metadata": {},
   "outputs": [
    {
     "data": {
      "text/plain": [
       "Product\n",
       "Product A    44.4\n",
       "Product B    43.4\n",
       "Product C    47.4\n",
       "Name: Customer_Age, dtype: float64"
      ]
     },
     "execution_count": 121,
     "metadata": {},
     "output_type": "execute_result"
    }
   ],
   "source": [
    "df.groupby('Product')['Customer_Age'].mean()"
   ]
  },
  {
   "cell_type": "markdown",
   "id": "35c4a519-43ca-476c-9359-25b89db67e05",
   "metadata": {},
   "source": [
    "### Группировка по рейтингу покупателя и подсчет общей суммы продаж:\n",
    "\n",
    "● Группируйте данные по 'Customer_Rating' и подсчитайте общую сумму ('Sales') для каждого рейтинга."
   ]
  },
  {
   "cell_type": "code",
   "execution_count": 123,
   "id": "be7688f3-f2a3-4fb3-928c-e6ae429e641b",
   "metadata": {},
   "outputs": [
    {
     "data": {
      "text/plain": [
       "Customer_Rating\n",
       "1     63\n",
       "2    264\n",
       "3     97\n",
       "4    259\n",
       "5    180\n",
       "Name: Sales, dtype: int64"
      ]
     },
     "execution_count": 123,
     "metadata": {},
     "output_type": "execute_result"
    }
   ],
   "source": [
    "df.groupby('Customer_Rating')['Sales'].sum()"
   ]
  },
  {
   "cell_type": "code",
   "execution_count": null,
   "id": "5c417d25-7922-4750-8672-1707951f883f",
   "metadata": {},
   "outputs": [],
   "source": []
  }
 ],
 "metadata": {
  "kernelspec": {
   "display_name": "Python [conda env:base] *",
   "language": "python",
   "name": "conda-base-py"
  },
  "language_info": {
   "codemirror_mode": {
    "name": "ipython",
    "version": 3
   },
   "file_extension": ".py",
   "mimetype": "text/x-python",
   "name": "python",
   "nbconvert_exporter": "python",
   "pygments_lexer": "ipython3",
   "version": "3.12.7"
  }
 },
 "nbformat": 4,
 "nbformat_minor": 5
}
