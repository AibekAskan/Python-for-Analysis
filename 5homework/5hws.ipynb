{
 "cells": [
  {
   "cell_type": "markdown",
   "id": "55e60f16-b054-4cec-b9c2-61c16bbe9d24",
   "metadata": {},
   "source": [
    "# Задание 1 - Работа с файлами Data Frame"
   ]
  },
  {
   "cell_type": "code",
   "execution_count": 147,
   "id": "e8f2c99b-f52f-4c5f-a15b-635ff19b752e",
   "metadata": {},
   "outputs": [],
   "source": [
    "import pandas as pd"
   ]
  },
  {
   "cell_type": "code",
   "execution_count": 249,
   "id": "cb8736ec-9b1f-4498-a2d2-13d74bf86ba8",
   "metadata": {},
   "outputs": [],
   "source": [
    "df = pd.read_csv('ДЗ_Pandas.csv')"
   ]
  },
  {
   "cell_type": "markdown",
   "id": "a5b3f2d7-5127-46f8-a4ea-12227dab944a",
   "metadata": {},
   "source": [
    "#####  - Определите, в каких столбцах есть пропущенные значения. Удалите все строки, в которых пропущено значение в столбце 'Бюджет (млн $)'."
   ]
  },
  {
   "cell_type": "code",
   "execution_count": 252,
   "id": "dee550cc-bd5c-4127-b963-162f87cd07f1",
   "metadata": {},
   "outputs": [
    {
     "data": {
      "text/plain": [
       "ID                 0\n",
       "Название фильма    0\n",
       "Год выпуска        0\n",
       "Жанр               0\n",
       "Рейтинг            2\n",
       "Бюджет (млн $)     2\n",
       "Сборы (млн $)      0\n",
       "Режиссер           2\n",
       "Основные актеры    0\n",
       "dtype: int64"
      ]
     },
     "execution_count": 252,
     "metadata": {},
     "output_type": "execute_result"
    }
   ],
   "source": [
    "df.isnull().sum()"
   ]
  },
  {
   "cell_type": "code",
   "execution_count": 254,
   "id": "31db4913-28fd-4e47-b567-4ae4d577b783",
   "metadata": {},
   "outputs": [
    {
     "data": {
      "text/html": [
       "<div>\n",
       "<style scoped>\n",
       "    .dataframe tbody tr th:only-of-type {\n",
       "        vertical-align: middle;\n",
       "    }\n",
       "\n",
       "    .dataframe tbody tr th {\n",
       "        vertical-align: top;\n",
       "    }\n",
       "\n",
       "    .dataframe thead th {\n",
       "        text-align: right;\n",
       "    }\n",
       "</style>\n",
       "<table border=\"1\" class=\"dataframe\">\n",
       "  <thead>\n",
       "    <tr style=\"text-align: right;\">\n",
       "      <th></th>\n",
       "      <th>ID</th>\n",
       "      <th>Название фильма</th>\n",
       "      <th>Год выпуска</th>\n",
       "      <th>Жанр</th>\n",
       "      <th>Рейтинг</th>\n",
       "      <th>Бюджет (млн $)</th>\n",
       "      <th>Сборы (млн $)</th>\n",
       "      <th>Режиссер</th>\n",
       "      <th>Основные актеры</th>\n",
       "    </tr>\n",
       "  </thead>\n",
       "  <tbody>\n",
       "    <tr>\n",
       "      <th>0</th>\n",
       "      <td>1</td>\n",
       "      <td>Космический эпос</td>\n",
       "      <td>2022</td>\n",
       "      <td>Фантастика</td>\n",
       "      <td>7.8</td>\n",
       "      <td>120.0</td>\n",
       "      <td>500</td>\n",
       "      <td>NaN</td>\n",
       "      <td>Анна Петрова, Петр Сидоров</td>\n",
       "    </tr>\n",
       "    <tr>\n",
       "      <th>1</th>\n",
       "      <td>2</td>\n",
       "      <td>Приключения времени</td>\n",
       "      <td>2020</td>\n",
       "      <td>Приключения</td>\n",
       "      <td>8.2</td>\n",
       "      <td>90.0</td>\n",
       "      <td>450</td>\n",
       "      <td>Мария Смирнова</td>\n",
       "      <td>Сергей Васильев, Ольга Иванова</td>\n",
       "    </tr>\n",
       "    <tr>\n",
       "      <th>2</th>\n",
       "      <td>3</td>\n",
       "      <td>Сердце океана</td>\n",
       "      <td>2021</td>\n",
       "      <td>Драма</td>\n",
       "      <td>8.5</td>\n",
       "      <td>60.0</td>\n",
       "      <td>300</td>\n",
       "      <td>Алексей Попов</td>\n",
       "      <td>Дмитрий Кузнецов, Ирина Лебедева</td>\n",
       "    </tr>\n",
       "    <tr>\n",
       "      <th>3</th>\n",
       "      <td>4</td>\n",
       "      <td>Секретные агенты</td>\n",
       "      <td>2019</td>\n",
       "      <td>Боевик</td>\n",
       "      <td>7.6</td>\n",
       "      <td>85.0</td>\n",
       "      <td>550</td>\n",
       "      <td>Кирилл Соколов</td>\n",
       "      <td>Елена Романова, Артем Михайлов</td>\n",
       "    </tr>\n",
       "    <tr>\n",
       "      <th>5</th>\n",
       "      <td>6</td>\n",
       "      <td>Городские легенды</td>\n",
       "      <td>2018</td>\n",
       "      <td>Триллер</td>\n",
       "      <td>NaN</td>\n",
       "      <td>40.0</td>\n",
       "      <td>200</td>\n",
       "      <td>Ольга Петрова</td>\n",
       "      <td>Игорь Николаев, Екатерина Волкова</td>\n",
       "    </tr>\n",
       "    <tr>\n",
       "      <th>6</th>\n",
       "      <td>7</td>\n",
       "      <td>Звёздные врата</td>\n",
       "      <td>2023</td>\n",
       "      <td>Научная фантастика</td>\n",
       "      <td>NaN</td>\n",
       "      <td>130.0</td>\n",
       "      <td>650</td>\n",
       "      <td>NaN</td>\n",
       "      <td>Наталья Орлова, Антон Краснов</td>\n",
       "    </tr>\n",
       "    <tr>\n",
       "      <th>7</th>\n",
       "      <td>8</td>\n",
       "      <td>Возвращение героя</td>\n",
       "      <td>2021</td>\n",
       "      <td>Боевик</td>\n",
       "      <td>7.9</td>\n",
       "      <td>95.0</td>\n",
       "      <td>480</td>\n",
       "      <td>Роман Васильев</td>\n",
       "      <td>Максим Андреев, Алиса Горшкова</td>\n",
       "    </tr>\n",
       "    <tr>\n",
       "      <th>9</th>\n",
       "      <td>10</td>\n",
       "      <td>Тайны прошлого</td>\n",
       "      <td>2022</td>\n",
       "      <td>Мистика</td>\n",
       "      <td>7.1</td>\n",
       "      <td>65.0</td>\n",
       "      <td>310</td>\n",
       "      <td>Дмитрий Иванов</td>\n",
       "      <td>Светлана Иванова, Денис Смирнов</td>\n",
       "    </tr>\n",
       "  </tbody>\n",
       "</table>\n",
       "</div>"
      ],
      "text/plain": [
       "   ID              Название фильма  Год выпуска                Жанр  Рейтинг  \\\n",
       "0           1     Космический эпос         2022          Фантастика      7.8   \n",
       "1           2  Приключения времени         2020         Приключения      8.2   \n",
       "2           3        Сердце океана         2021               Драма      8.5   \n",
       "3           4     Секретные агенты         2019              Боевик      7.6   \n",
       "5           6    Городские легенды         2018             Триллер      NaN   \n",
       "6           7       Звёздные врата         2023  Научная фантастика      NaN   \n",
       "7           8    Возвращение героя         2021              Боевик      7.9   \n",
       "9          10       Тайны прошлого         2022             Мистика      7.1   \n",
       "\n",
       "   Бюджет (млн $)  Сборы (млн $)        Режиссер  \\\n",
       "0           120.0            500             NaN   \n",
       "1            90.0            450  Мария Смирнова   \n",
       "2            60.0            300   Алексей Попов   \n",
       "3            85.0            550  Кирилл Соколов   \n",
       "5            40.0            200   Ольга Петрова   \n",
       "6           130.0            650             NaN   \n",
       "7            95.0            480  Роман Васильев   \n",
       "9            65.0            310  Дмитрий Иванов   \n",
       "\n",
       "                     Основные актеры  \n",
       "0         Анна Петрова, Петр Сидоров  \n",
       "1     Сергей Васильев, Ольга Иванова  \n",
       "2   Дмитрий Кузнецов, Ирина Лебедева  \n",
       "3     Елена Романова, Артем Михайлов  \n",
       "5  Игорь Николаев, Екатерина Волкова  \n",
       "6      Наталья Орлова, Антон Краснов  \n",
       "7     Максим Андреев, Алиса Горшкова  \n",
       "9    Светлана Иванова, Денис Смирнов  "
      ]
     },
     "execution_count": 254,
     "metadata": {},
     "output_type": "execute_result"
    }
   ],
   "source": [
    "df.dropna(subset=['Бюджет (млн $)'])"
   ]
  },
  {
   "cell_type": "markdown",
   "id": "8c33a209-f448-4c42-91be-367e46baa1df",
   "metadata": {},
   "source": [
    "##### - Заполните все пропущенные значения в столбце 'Режиссер' строкой 'Неизвестен'."
   ]
  },
  {
   "cell_type": "code",
   "execution_count": 257,
   "id": "1f762dac-737e-4dd2-9ab3-bff186c72e0e",
   "metadata": {},
   "outputs": [],
   "source": [
    "df['Режиссер'] = df['Режиссер'].fillna('Неизвестен')"
   ]
  },
  {
   "cell_type": "code",
   "execution_count": 259,
   "id": "4751633d-71be-4998-964d-64e241175fe7",
   "metadata": {},
   "outputs": [
    {
     "data": {
      "text/plain": [
       "0        Неизвестен\n",
       "1    Мария Смирнова\n",
       "2     Алексей Попов\n",
       "3    Кирилл Соколов\n",
       "4        Петр Ильин\n",
       "5     Ольга Петрова\n",
       "6        Неизвестен\n",
       "7    Роман Васильев\n",
       "8     Елена Козлова\n",
       "9    Дмитрий Иванов\n",
       "Name: Режиссер, dtype: object"
      ]
     },
     "execution_count": 259,
     "metadata": {},
     "output_type": "execute_result"
    }
   ],
   "source": [
    "df['Режиссер']"
   ]
  },
  {
   "cell_type": "markdown",
   "id": "b45271b0-b7c2-4432-8916-44499346b7e7",
   "metadata": {},
   "source": [
    "##### - Заполните все пропущенные значения в столбце 'Рейтинг' средним значением этого столбца."
   ]
  },
  {
   "cell_type": "code",
   "execution_count": 262,
   "id": "aeaa6acd-6174-45df-9df5-3b33b108919b",
   "metadata": {},
   "outputs": [
    {
     "data": {
      "text/plain": [
       "0    7.800\n",
       "1    8.200\n",
       "2    8.500\n",
       "3    7.600\n",
       "4    7.000\n",
       "5    7.675\n",
       "6    7.675\n",
       "7    7.900\n",
       "8    7.300\n",
       "9    7.100\n",
       "Name: Рейтинг, dtype: float64"
      ]
     },
     "execution_count": 262,
     "metadata": {},
     "output_type": "execute_result"
    }
   ],
   "source": [
    "df_mean = df['Рейтинг'].mean()\n",
    "df['Рейтинг'].fillna(df_mean)"
   ]
  },
  {
   "cell_type": "markdown",
   "id": "b3a811f7-6954-4147-9a33-ca6426b2d3f3",
   "metadata": {},
   "source": [
    "##### - Если в строке пропущены значения и в 'Бюджет (млн $)', и в 'Сборы (млн)', удалите эту строку. В противном случае, если пропущено значение только в одном из этих столбцов, оставьте строку."
   ]
  },
  {
   "cell_type": "code",
   "execution_count": 271,
   "id": "aad231aa-a4cd-4d3a-9c58-6d9ad4116b52",
   "metadata": {},
   "outputs": [
    {
     "data": {
      "text/html": [
       "<div>\n",
       "<style scoped>\n",
       "    .dataframe tbody tr th:only-of-type {\n",
       "        vertical-align: middle;\n",
       "    }\n",
       "\n",
       "    .dataframe tbody tr th {\n",
       "        vertical-align: top;\n",
       "    }\n",
       "\n",
       "    .dataframe thead th {\n",
       "        text-align: right;\n",
       "    }\n",
       "</style>\n",
       "<table border=\"1\" class=\"dataframe\">\n",
       "  <thead>\n",
       "    <tr style=\"text-align: right;\">\n",
       "      <th></th>\n",
       "      <th>ID</th>\n",
       "      <th>Название фильма</th>\n",
       "      <th>Год выпуска</th>\n",
       "      <th>Жанр</th>\n",
       "      <th>Рейтинг</th>\n",
       "      <th>Бюджет (млн $)</th>\n",
       "      <th>Сборы (млн $)</th>\n",
       "      <th>Режиссер</th>\n",
       "      <th>Основные актеры</th>\n",
       "    </tr>\n",
       "  </thead>\n",
       "  <tbody>\n",
       "    <tr>\n",
       "      <th>0</th>\n",
       "      <td>1</td>\n",
       "      <td>Космический эпос</td>\n",
       "      <td>2022</td>\n",
       "      <td>Фантастика</td>\n",
       "      <td>7.8</td>\n",
       "      <td>120.0</td>\n",
       "      <td>500</td>\n",
       "      <td>Неизвестен</td>\n",
       "      <td>Анна Петрова, Петр Сидоров</td>\n",
       "    </tr>\n",
       "    <tr>\n",
       "      <th>1</th>\n",
       "      <td>2</td>\n",
       "      <td>Приключения времени</td>\n",
       "      <td>2020</td>\n",
       "      <td>Приключения</td>\n",
       "      <td>8.2</td>\n",
       "      <td>90.0</td>\n",
       "      <td>450</td>\n",
       "      <td>Мария Смирнова</td>\n",
       "      <td>Сергей Васильев, Ольга Иванова</td>\n",
       "    </tr>\n",
       "    <tr>\n",
       "      <th>2</th>\n",
       "      <td>3</td>\n",
       "      <td>Сердце океана</td>\n",
       "      <td>2021</td>\n",
       "      <td>Драма</td>\n",
       "      <td>8.5</td>\n",
       "      <td>60.0</td>\n",
       "      <td>300</td>\n",
       "      <td>Алексей Попов</td>\n",
       "      <td>Дмитрий Кузнецов, Ирина Лебедева</td>\n",
       "    </tr>\n",
       "    <tr>\n",
       "      <th>3</th>\n",
       "      <td>4</td>\n",
       "      <td>Секретные агенты</td>\n",
       "      <td>2019</td>\n",
       "      <td>Боевик</td>\n",
       "      <td>7.6</td>\n",
       "      <td>85.0</td>\n",
       "      <td>550</td>\n",
       "      <td>Кирилл Соколов</td>\n",
       "      <td>Елена Романова, Артем Михайлов</td>\n",
       "    </tr>\n",
       "    <tr>\n",
       "      <th>4</th>\n",
       "      <td>5</td>\n",
       "      <td>Загадка джунглей</td>\n",
       "      <td>2023</td>\n",
       "      <td>Приключения</td>\n",
       "      <td>7.0</td>\n",
       "      <td>NaN</td>\n",
       "      <td>350</td>\n",
       "      <td>Петр Ильин</td>\n",
       "      <td>Антон Зайцев, Марина Краснова</td>\n",
       "    </tr>\n",
       "    <tr>\n",
       "      <th>5</th>\n",
       "      <td>6</td>\n",
       "      <td>Городские легенды</td>\n",
       "      <td>2018</td>\n",
       "      <td>Триллер</td>\n",
       "      <td>NaN</td>\n",
       "      <td>40.0</td>\n",
       "      <td>200</td>\n",
       "      <td>Ольга Петрова</td>\n",
       "      <td>Игорь Николаев, Екатерина Волкова</td>\n",
       "    </tr>\n",
       "    <tr>\n",
       "      <th>6</th>\n",
       "      <td>7</td>\n",
       "      <td>Звёздные врата</td>\n",
       "      <td>2023</td>\n",
       "      <td>Научная фантастика</td>\n",
       "      <td>NaN</td>\n",
       "      <td>130.0</td>\n",
       "      <td>650</td>\n",
       "      <td>Неизвестен</td>\n",
       "      <td>Наталья Орлова, Антон Краснов</td>\n",
       "    </tr>\n",
       "    <tr>\n",
       "      <th>7</th>\n",
       "      <td>8</td>\n",
       "      <td>Возвращение героя</td>\n",
       "      <td>2021</td>\n",
       "      <td>Боевик</td>\n",
       "      <td>7.9</td>\n",
       "      <td>95.0</td>\n",
       "      <td>480</td>\n",
       "      <td>Роман Васильев</td>\n",
       "      <td>Максим Андреев, Алиса Горшкова</td>\n",
       "    </tr>\n",
       "    <tr>\n",
       "      <th>8</th>\n",
       "      <td>9</td>\n",
       "      <td>Ночные гонки</td>\n",
       "      <td>2019</td>\n",
       "      <td>Драма</td>\n",
       "      <td>7.3</td>\n",
       "      <td>NaN</td>\n",
       "      <td>270</td>\n",
       "      <td>Елена Козлова</td>\n",
       "      <td>Алексей Петров, Мария Сергеева</td>\n",
       "    </tr>\n",
       "    <tr>\n",
       "      <th>9</th>\n",
       "      <td>10</td>\n",
       "      <td>Тайны прошлого</td>\n",
       "      <td>2022</td>\n",
       "      <td>Мистика</td>\n",
       "      <td>7.1</td>\n",
       "      <td>65.0</td>\n",
       "      <td>310</td>\n",
       "      <td>Дмитрий Иванов</td>\n",
       "      <td>Светлана Иванова, Денис Смирнов</td>\n",
       "    </tr>\n",
       "  </tbody>\n",
       "</table>\n",
       "</div>"
      ],
      "text/plain": [
       "   ID              Название фильма  Год выпуска                Жанр  Рейтинг  \\\n",
       "0           1     Космический эпос         2022          Фантастика      7.8   \n",
       "1           2  Приключения времени         2020         Приключения      8.2   \n",
       "2           3        Сердце океана         2021               Драма      8.5   \n",
       "3           4     Секретные агенты         2019              Боевик      7.6   \n",
       "4           5     Загадка джунглей         2023         Приключения      7.0   \n",
       "5           6    Городские легенды         2018             Триллер      NaN   \n",
       "6           7       Звёздные врата         2023  Научная фантастика      NaN   \n",
       "7           8    Возвращение героя         2021              Боевик      7.9   \n",
       "8           9         Ночные гонки         2019               Драма      7.3   \n",
       "9          10       Тайны прошлого         2022             Мистика      7.1   \n",
       "\n",
       "   Бюджет (млн $)  Сборы (млн $)        Режиссер  \\\n",
       "0           120.0            500      Неизвестен   \n",
       "1            90.0            450  Мария Смирнова   \n",
       "2            60.0            300   Алексей Попов   \n",
       "3            85.0            550  Кирилл Соколов   \n",
       "4             NaN            350      Петр Ильин   \n",
       "5            40.0            200   Ольга Петрова   \n",
       "6           130.0            650      Неизвестен   \n",
       "7            95.0            480  Роман Васильев   \n",
       "8             NaN            270   Елена Козлова   \n",
       "9            65.0            310  Дмитрий Иванов   \n",
       "\n",
       "                     Основные актеры  \n",
       "0         Анна Петрова, Петр Сидоров  \n",
       "1     Сергей Васильев, Ольга Иванова  \n",
       "2   Дмитрий Кузнецов, Ирина Лебедева  \n",
       "3     Елена Романова, Артем Михайлов  \n",
       "4      Антон Зайцев, Марина Краснова  \n",
       "5  Игорь Николаев, Екатерина Волкова  \n",
       "6      Наталья Орлова, Антон Краснов  \n",
       "7     Максим Андреев, Алиса Горшкова  \n",
       "8     Алексей Петров, Мария Сергеева  \n",
       "9    Светлана Иванова, Денис Смирнов  "
      ]
     },
     "execution_count": 271,
     "metadata": {},
     "output_type": "execute_result"
    }
   ],
   "source": [
    "df.dropna(subset=['Бюджет (млн $)', 'Сборы (млн $)'], how='all')"
   ]
  },
  {
   "cell_type": "markdown",
   "id": "abb189ba-9b73-4c8b-a689-7aebec794c74",
   "metadata": {},
   "source": [
    "# Задание 2 - Grouby"
   ]
  },
  {
   "cell_type": "markdown",
   "id": "576897c9-f31f-46ac-b8b9-e1c31474af72",
   "metadata": {},
   "source": [
    "##### Группировка по Жанру:\n",
    "\n",
    "- Сгруппируйте фильмы по жанру\n",
    "\n",
    "- Рассчитайте средний рейтинг и средний бюджет в каждом жанре."
   ]
  },
  {
   "cell_type": "code",
   "execution_count": 276,
   "id": "dbc9f410-db3d-41fd-943c-cffd6f34595a",
   "metadata": {},
   "outputs": [],
   "source": [
    "df = pd.read_csv('ДЗ_Pandas.csv')"
   ]
  },
  {
   "cell_type": "code",
   "execution_count": 290,
   "id": "57a77f3e-ef31-445a-a4af-f6deaef267ae",
   "metadata": {},
   "outputs": [
    {
     "data": {
      "text/html": [
       "<div>\n",
       "<style scoped>\n",
       "    .dataframe tbody tr th:only-of-type {\n",
       "        vertical-align: middle;\n",
       "    }\n",
       "\n",
       "    .dataframe tbody tr th {\n",
       "        vertical-align: top;\n",
       "    }\n",
       "\n",
       "    .dataframe thead th {\n",
       "        text-align: right;\n",
       "    }\n",
       "</style>\n",
       "<table border=\"1\" class=\"dataframe\">\n",
       "  <thead>\n",
       "    <tr style=\"text-align: right;\">\n",
       "      <th></th>\n",
       "      <th>Рейтинг</th>\n",
       "      <th>Бюджет (млн $)</th>\n",
       "    </tr>\n",
       "    <tr>\n",
       "      <th>Жанр</th>\n",
       "      <th></th>\n",
       "      <th></th>\n",
       "    </tr>\n",
       "  </thead>\n",
       "  <tbody>\n",
       "    <tr>\n",
       "      <th>Боевик</th>\n",
       "      <td>7.75</td>\n",
       "      <td>90.0</td>\n",
       "    </tr>\n",
       "    <tr>\n",
       "      <th>Драма</th>\n",
       "      <td>7.90</td>\n",
       "      <td>60.0</td>\n",
       "    </tr>\n",
       "    <tr>\n",
       "      <th>Мистика</th>\n",
       "      <td>7.10</td>\n",
       "      <td>65.0</td>\n",
       "    </tr>\n",
       "    <tr>\n",
       "      <th>Научная фантастика</th>\n",
       "      <td>NaN</td>\n",
       "      <td>130.0</td>\n",
       "    </tr>\n",
       "    <tr>\n",
       "      <th>Приключения</th>\n",
       "      <td>7.60</td>\n",
       "      <td>90.0</td>\n",
       "    </tr>\n",
       "    <tr>\n",
       "      <th>Триллер</th>\n",
       "      <td>NaN</td>\n",
       "      <td>40.0</td>\n",
       "    </tr>\n",
       "    <tr>\n",
       "      <th>Фантастика</th>\n",
       "      <td>7.80</td>\n",
       "      <td>120.0</td>\n",
       "    </tr>\n",
       "  </tbody>\n",
       "</table>\n",
       "</div>"
      ],
      "text/plain": [
       "                    Рейтинг  Бюджет (млн $)\n",
       "Жанр                                       \n",
       "Боевик                 7.75            90.0\n",
       "Драма                  7.90            60.0\n",
       "Мистика                7.10            65.0\n",
       "Научная фантастика      NaN           130.0\n",
       "Приключения            7.60            90.0\n",
       "Триллер                 NaN            40.0\n",
       "Фантастика             7.80           120.0"
      ]
     },
     "execution_count": 290,
     "metadata": {},
     "output_type": "execute_result"
    }
   ],
   "source": [
    "df.groupby('Жанр')[['Рейтинг', 'Бюджет (млн $)']].mean()"
   ]
  },
  {
   "cell_type": "markdown",
   "id": "ee1b8297-2591-4cfe-af85-6f4395d14b68",
   "metadata": {},
   "source": [
    "##### Группировка по Году Выпуска:\n",
    "\n",
    "- Сгруппируйте фильмы по году выпуска\n",
    "\n",
    "- Определите общее количество фильмов и суммарные сборы в прокате по каждому году."
   ]
  },
  {
   "cell_type": "code",
   "execution_count": 322,
   "id": "e449635e-e2e9-4f75-ac98-48ab6da32d34",
   "metadata": {},
   "outputs": [
    {
     "data": {
      "text/html": [
       "<div>\n",
       "<style scoped>\n",
       "    .dataframe tbody tr th:only-of-type {\n",
       "        vertical-align: middle;\n",
       "    }\n",
       "\n",
       "    .dataframe tbody tr th {\n",
       "        vertical-align: top;\n",
       "    }\n",
       "\n",
       "    .dataframe thead th {\n",
       "        text-align: right;\n",
       "    }\n",
       "</style>\n",
       "<table border=\"1\" class=\"dataframe\">\n",
       "  <thead>\n",
       "    <tr style=\"text-align: right;\">\n",
       "      <th></th>\n",
       "      <th>Название фильма</th>\n",
       "      <th>Сборы (млн $)</th>\n",
       "    </tr>\n",
       "    <tr>\n",
       "      <th>Год выпуска</th>\n",
       "      <th></th>\n",
       "      <th></th>\n",
       "    </tr>\n",
       "  </thead>\n",
       "  <tbody>\n",
       "    <tr>\n",
       "      <th>2018</th>\n",
       "      <td>1</td>\n",
       "      <td>200</td>\n",
       "    </tr>\n",
       "    <tr>\n",
       "      <th>2019</th>\n",
       "      <td>2</td>\n",
       "      <td>820</td>\n",
       "    </tr>\n",
       "    <tr>\n",
       "      <th>2020</th>\n",
       "      <td>1</td>\n",
       "      <td>450</td>\n",
       "    </tr>\n",
       "    <tr>\n",
       "      <th>2021</th>\n",
       "      <td>2</td>\n",
       "      <td>780</td>\n",
       "    </tr>\n",
       "    <tr>\n",
       "      <th>2022</th>\n",
       "      <td>2</td>\n",
       "      <td>810</td>\n",
       "    </tr>\n",
       "    <tr>\n",
       "      <th>2023</th>\n",
       "      <td>2</td>\n",
       "      <td>1000</td>\n",
       "    </tr>\n",
       "  </tbody>\n",
       "</table>\n",
       "</div>"
      ],
      "text/plain": [
       "             Название фильма  Сборы (млн $)\n",
       "Год выпуска                                \n",
       "2018                       1            200\n",
       "2019                       2            820\n",
       "2020                       1            450\n",
       "2021                       2            780\n",
       "2022                       2            810\n",
       "2023                       2           1000"
      ]
     },
     "execution_count": 322,
     "metadata": {},
     "output_type": "execute_result"
    }
   ],
   "source": [
    "df.groupby('Год выпуска').agg({\n",
    "    'Название фильма': 'count',\n",
    "    'Сборы (млн $)': 'sum'\n",
    "})"
   ]
  },
  {
   "cell_type": "markdown",
   "id": "7954e778-23cf-4c66-99dd-2413ef26d485",
   "metadata": {},
   "source": [
    "##### Комбинированная Группировка:\n",
    "\n",
    "- Сгруппируйте фильмы по жанру и году выпуска\n",
    "\n",
    "- Рассчитайте средний рейтинг для каждой комбинации жанра и года выпуска"
   ]
  },
  {
   "cell_type": "code",
   "execution_count": 333,
   "id": "7d8df626-74ef-4c07-99c3-b9cf5c4a5b35",
   "metadata": {},
   "outputs": [
    {
     "data": {
      "text/plain": [
       "Жанр                Год выпуска\n",
       "Боевик              2019           7.6\n",
       "                    2021           7.9\n",
       "Драма               2019           7.3\n",
       "                    2021           8.5\n",
       "Мистика             2022           7.1\n",
       "Научная фантастика  2023           NaN\n",
       "Приключения         2020           8.2\n",
       "                    2023           7.0\n",
       "Триллер             2018           NaN\n",
       "Фантастика          2022           7.8\n",
       "Name: Рейтинг, dtype: float64"
      ]
     },
     "execution_count": 333,
     "metadata": {},
     "output_type": "execute_result"
    }
   ],
   "source": [
    "df.groupby(['Жанр', 'Год выпуска'])['Рейтинг'].mean()"
   ]
  },
  {
   "cell_type": "markdown",
   "id": "f99b5e08-e919-4b3b-a7c8-38efe1f7842f",
   "metadata": {},
   "source": [
    "# Задание 3 - reset index"
   ]
  },
  {
   "cell_type": "markdown",
   "id": "807f7ea1-312f-412c-b114-8ab7dd4ff255",
   "metadata": {},
   "source": [
    "##### Группировка и Сортировка:\n",
    "\n",
    "- Сгруппируйте фильмы по жанру и рассчитайте средний рейтинг для каждого жанра\n",
    "\n",
    "- Сбросьте индекс и отсортируйте результаты по среднему рейтингу в убывающем порядке"
   ]
  },
  {
   "cell_type": "code",
   "execution_count": 347,
   "id": "7ce95f6b-2fad-45c4-ae5c-fcb5313ac3da",
   "metadata": {},
   "outputs": [
    {
     "data": {
      "text/html": [
       "<div>\n",
       "<style scoped>\n",
       "    .dataframe tbody tr th:only-of-type {\n",
       "        vertical-align: middle;\n",
       "    }\n",
       "\n",
       "    .dataframe tbody tr th {\n",
       "        vertical-align: top;\n",
       "    }\n",
       "\n",
       "    .dataframe thead th {\n",
       "        text-align: right;\n",
       "    }\n",
       "</style>\n",
       "<table border=\"1\" class=\"dataframe\">\n",
       "  <thead>\n",
       "    <tr style=\"text-align: right;\">\n",
       "      <th></th>\n",
       "      <th>Жанр</th>\n",
       "      <th>Рейтинг</th>\n",
       "    </tr>\n",
       "  </thead>\n",
       "  <tbody>\n",
       "    <tr>\n",
       "      <th>1</th>\n",
       "      <td>Драма</td>\n",
       "      <td>7.90</td>\n",
       "    </tr>\n",
       "    <tr>\n",
       "      <th>6</th>\n",
       "      <td>Фантастика</td>\n",
       "      <td>7.80</td>\n",
       "    </tr>\n",
       "    <tr>\n",
       "      <th>0</th>\n",
       "      <td>Боевик</td>\n",
       "      <td>7.75</td>\n",
       "    </tr>\n",
       "    <tr>\n",
       "      <th>4</th>\n",
       "      <td>Приключения</td>\n",
       "      <td>7.60</td>\n",
       "    </tr>\n",
       "    <tr>\n",
       "      <th>2</th>\n",
       "      <td>Мистика</td>\n",
       "      <td>7.10</td>\n",
       "    </tr>\n",
       "    <tr>\n",
       "      <th>3</th>\n",
       "      <td>Научная фантастика</td>\n",
       "      <td>NaN</td>\n",
       "    </tr>\n",
       "    <tr>\n",
       "      <th>5</th>\n",
       "      <td>Триллер</td>\n",
       "      <td>NaN</td>\n",
       "    </tr>\n",
       "  </tbody>\n",
       "</table>\n",
       "</div>"
      ],
      "text/plain": [
       "                 Жанр  Рейтинг\n",
       "1               Драма     7.90\n",
       "6          Фантастика     7.80\n",
       "0              Боевик     7.75\n",
       "4         Приключения     7.60\n",
       "2             Мистика     7.10\n",
       "3  Научная фантастика      NaN\n",
       "5             Триллер      NaN"
      ]
     },
     "execution_count": 347,
     "metadata": {},
     "output_type": "execute_result"
    }
   ],
   "source": [
    "df.groupby('Жанр')['Рейтинг'].mean().reset_index().sort_values(by='Рейтинг', ascending=False)"
   ]
  },
  {
   "cell_type": "markdown",
   "id": "8803f86b-6e57-43da-aa43-8fef166c8f2b",
   "metadata": {},
   "source": [
    "##### Анализ частоты:\n",
    "\n",
    "- Используйте value_counts для определения, сколько фильмов было выпущено в каждом году\n",
    "\n",
    "- Отсортируйте результаты по годам в порядке возрастания"
   ]
  },
  {
   "cell_type": "code",
   "execution_count": 365,
   "id": "a4f391db-9d69-4a7b-ab5f-bf33fdbd1d93",
   "metadata": {},
   "outputs": [
    {
     "data": {
      "text/plain": [
       "Год выпуска\n",
       "2018    1\n",
       "2019    2\n",
       "2020    1\n",
       "2021    2\n",
       "2022    2\n",
       "2023    2\n",
       "Name: count, dtype: int64"
      ]
     },
     "execution_count": 365,
     "metadata": {},
     "output_type": "execute_result"
    }
   ],
   "source": [
    "df['Год выпуска'].value_counts().sort_index()"
   ]
  },
  {
   "cell_type": "markdown",
   "id": "622d7801-109f-457e-87ff-9377fecc2d56",
   "metadata": {},
   "source": [
    "##### Комбинированный Анализ:\n",
    "\n",
    "- Сгруппируйте фильмы по режиссеру и жанру, затем рассчитайте общие сборы фильмов для каждой комбинации\n",
    "\n",
    "- Сбросьте индекс и отсортируйте результаты по сумме сборов в убывающем порядке"
   ]
  },
  {
   "cell_type": "code",
   "execution_count": 393,
   "id": "f383d40b-fa11-4e7c-88dc-3c4ab934f8bf",
   "metadata": {},
   "outputs": [
    {
     "data": {
      "text/html": [
       "<div>\n",
       "<style scoped>\n",
       "    .dataframe tbody tr th:only-of-type {\n",
       "        vertical-align: middle;\n",
       "    }\n",
       "\n",
       "    .dataframe tbody tr th {\n",
       "        vertical-align: top;\n",
       "    }\n",
       "\n",
       "    .dataframe thead th {\n",
       "        text-align: right;\n",
       "    }\n",
       "</style>\n",
       "<table border=\"1\" class=\"dataframe\">\n",
       "  <thead>\n",
       "    <tr style=\"text-align: right;\">\n",
       "      <th></th>\n",
       "      <th>Режиссер</th>\n",
       "      <th>Жанр</th>\n",
       "      <th>Сборы (млн $)</th>\n",
       "    </tr>\n",
       "  </thead>\n",
       "  <tbody>\n",
       "    <tr>\n",
       "      <th>3</th>\n",
       "      <td>Кирилл Соколов</td>\n",
       "      <td>Боевик</td>\n",
       "      <td>550</td>\n",
       "    </tr>\n",
       "    <tr>\n",
       "      <th>7</th>\n",
       "      <td>Роман Васильев</td>\n",
       "      <td>Боевик</td>\n",
       "      <td>480</td>\n",
       "    </tr>\n",
       "    <tr>\n",
       "      <th>4</th>\n",
       "      <td>Мария Смирнова</td>\n",
       "      <td>Приключения</td>\n",
       "      <td>450</td>\n",
       "    </tr>\n",
       "    <tr>\n",
       "      <th>6</th>\n",
       "      <td>Петр Ильин</td>\n",
       "      <td>Приключения</td>\n",
       "      <td>350</td>\n",
       "    </tr>\n",
       "    <tr>\n",
       "      <th>1</th>\n",
       "      <td>Дмитрий Иванов</td>\n",
       "      <td>Мистика</td>\n",
       "      <td>310</td>\n",
       "    </tr>\n",
       "    <tr>\n",
       "      <th>0</th>\n",
       "      <td>Алексей Попов</td>\n",
       "      <td>Драма</td>\n",
       "      <td>300</td>\n",
       "    </tr>\n",
       "    <tr>\n",
       "      <th>2</th>\n",
       "      <td>Елена Козлова</td>\n",
       "      <td>Драма</td>\n",
       "      <td>270</td>\n",
       "    </tr>\n",
       "    <tr>\n",
       "      <th>5</th>\n",
       "      <td>Ольга Петрова</td>\n",
       "      <td>Триллер</td>\n",
       "      <td>200</td>\n",
       "    </tr>\n",
       "  </tbody>\n",
       "</table>\n",
       "</div>"
      ],
      "text/plain": [
       "         Режиссер         Жанр  Сборы (млн $)\n",
       "3  Кирилл Соколов       Боевик            550\n",
       "7  Роман Васильев       Боевик            480\n",
       "4  Мария Смирнова  Приключения            450\n",
       "6      Петр Ильин  Приключения            350\n",
       "1  Дмитрий Иванов      Мистика            310\n",
       "0   Алексей Попов        Драма            300\n",
       "2   Елена Козлова        Драма            270\n",
       "5   Ольга Петрова      Триллер            200"
      ]
     },
     "execution_count": 393,
     "metadata": {},
     "output_type": "execute_result"
    }
   ],
   "source": [
    "df.groupby(['Режиссер', 'Жанр'])['Сборы (млн $)'].sum().reset_index().sort_values(by='Сборы (млн $)', ascending=False)"
   ]
  },
  {
   "cell_type": "code",
   "execution_count": null,
   "id": "e5259ef9-ac3a-4354-baa2-c0c5340c8756",
   "metadata": {},
   "outputs": [],
   "source": []
  }
 ],
 "metadata": {
  "kernelspec": {
   "display_name": "Python [conda env:base] *",
   "language": "python",
   "name": "conda-base-py"
  },
  "language_info": {
   "codemirror_mode": {
    "name": "ipython",
    "version": 3
   },
   "file_extension": ".py",
   "mimetype": "text/x-python",
   "name": "python",
   "nbconvert_exporter": "python",
   "pygments_lexer": "ipython3",
   "version": "3.12.7"
  }
 },
 "nbformat": 4,
 "nbformat_minor": 5
}
